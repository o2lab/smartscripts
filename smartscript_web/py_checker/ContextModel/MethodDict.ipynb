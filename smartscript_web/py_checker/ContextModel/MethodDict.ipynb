{
 "cells": [
  {
   "cell_type": "code",
   "execution_count": 1,
   "metadata": {},
   "outputs": [],
   "source": [
    "res = dict()"
   ]
  },
  {
   "cell_type": "code",
   "execution_count": 2,
   "metadata": {},
   "outputs": [],
   "source": [
    "res['set'] = ['add','clear','copy','difference','difference_update','discard','intersection','intersection_update','isdisjoint','issubset','issuperset','pop','remove','symmetric_difference','symmetric_difference_update','union','update']"
   ]
  },
  {
   "cell_type": "code",
   "execution_count": 3,
   "metadata": {},
   "outputs": [],
   "source": [
    "res['str'] = ['capitalize','casefold','center','count','encode','endswith','expandtabs','find','format','format_map','index','isalnum','isalpha','isdecimal','isdigit','isidentifier','islower','isnumeric','isprintable','isspace','istitle','isupper','join','ljust','lower','lstrip','maketrans','partition','replace','rfind','rindex','rjust','rpartition','rsplit','rstrip','split','splitlines','startswith','strip','swapcase','title','translate','upper','zfill']"
   ]
  },
  {
   "cell_type": "markdown",
   "metadata": {},
   "source": [
    "str?"
   ]
  },
  {
   "cell_type": "code",
   "execution_count": 4,
   "metadata": {},
   "outputs": [],
   "source": [
    "res['list'] = ['append','clear','copy','count','extend','index','insert','pop','remove','reverse','sort']"
   ]
  },
  {
   "cell_type": "code",
   "execution_count": 5,
   "metadata": {},
   "outputs": [],
   "source": [
    "res['tuple'] = ['count','index']"
   ]
  },
  {
   "cell_type": "code",
   "execution_count": 6,
   "metadata": {},
   "outputs": [],
   "source": [
    "res['dict'] = ['clear','copy','fromkeys','get','items','keys','pop','popitem','setdefault','update','values']"
   ]
  },
  {
   "cell_type": "code",
   "execution_count": 7,
   "metadata": {},
   "outputs": [],
   "source": [
    "res['int'] = []\n",
    "res['float'] = []\n",
    "res['complex'] = []"
   ]
  },
  {
   "cell_type": "code",
   "execution_count": 9,
   "metadata": {},
   "outputs": [
    {
     "data": {
      "text/plain": [
       "True"
      ]
     },
     "execution_count": 9,
     "metadata": {},
     "output_type": "execute_result"
    }
   ],
   "source": [
    "'int' in res"
   ]
  },
  {
   "cell_type": "code",
   "execution_count": 10,
   "metadata": {},
   "outputs": [
    {
     "data": {
      "text/plain": [
       "True"
      ]
     },
     "execution_count": 10,
     "metadata": {},
     "output_type": "execute_result"
    }
   ],
   "source": [
    "'call' not in res['int']"
   ]
  },
  {
   "cell_type": "code",
   "execution_count": 8,
   "metadata": {},
   "outputs": [],
   "source": [
    "import pickle\n",
    "with open('./res.pkl','wb') as f:\n",
    "    pickle.dump(res,f)"
   ]
  },
  {
   "cell_type": "code",
   "execution_count": 7,
   "metadata": {},
   "outputs": [],
   "source": [
    "from pprint import pprint"
   ]
  },
  {
   "cell_type": "code",
   "execution_count": 8,
   "metadata": {},
   "outputs": [
    {
     "name": "stdout",
     "output_type": "stream",
     "text": [
      "{'dict': ['clear',\n",
      "          'copy',\n",
      "          'fromkeys',\n",
      "          'get',\n",
      "          'items',\n",
      "          'keys',\n",
      "          'pop',\n",
      "          'popitem',\n",
      "          'setdefault',\n",
      "          'update',\n",
      "          'values'],\n",
      " 'list': ['append',\n",
      "          'clear',\n",
      "          'copy',\n",
      "          'count',\n",
      "          'extend',\n",
      "          'index',\n",
      "          'insert',\n",
      "          'pop',\n",
      "          'remove',\n",
      "          'reverse',\n",
      "          'sort'],\n",
      " 'set': ['add',\n",
      "         'clear',\n",
      "         'copy',\n",
      "         'difference',\n",
      "         'difference_update',\n",
      "         'discard',\n",
      "         'intersection',\n",
      "         'intersection_update',\n",
      "         'isdisjoint',\n",
      "         'issubset',\n",
      "         'issuperset',\n",
      "         'pop',\n",
      "         'remove',\n",
      "         'symmetric_difference',\n",
      "         'symmetric_difference_update',\n",
      "         'union',\n",
      "         'update'],\n",
      " 'str': ['capitalize',\n",
      "         'casefold',\n",
      "         'center',\n",
      "         'count',\n",
      "         'encode',\n",
      "         'endswith',\n",
      "         'expandtabs',\n",
      "         'find',\n",
      "         'format',\n",
      "         'format_map',\n",
      "         'index',\n",
      "         'isalnum',\n",
      "         'isalpha',\n",
      "         'isdecimal',\n",
      "         'isdigit',\n",
      "         'isidentifier',\n",
      "         'islower',\n",
      "         'isnumeric',\n",
      "         'isprintable',\n",
      "         'isspace',\n",
      "         'istitle',\n",
      "         'isupper',\n",
      "         'join',\n",
      "         'ljust',\n",
      "         'lower',\n",
      "         'lstrip',\n",
      "         'maketrans',\n",
      "         'partition',\n",
      "         'replace',\n",
      "         'rfind',\n",
      "         'rindex',\n",
      "         'rjust',\n",
      "         'rpartition',\n",
      "         'rsplit',\n",
      "         'rstrip',\n",
      "         'split',\n",
      "         'splitlines',\n",
      "         'startswith',\n",
      "         'strip',\n",
      "         'swapcase',\n",
      "         'title',\n",
      "         'translate',\n",
      "         'upper',\n",
      "         'zfill'],\n",
      " 'tuple': ['count', 'index']}\n"
     ]
    }
   ],
   "source": [
    "pprint(res)"
   ]
  }
 ],
 "metadata": {
  "kernelspec": {
   "display_name": "Python 3",
   "language": "python",
   "name": "python3"
  },
  "language_info": {
   "codemirror_mode": {
    "name": "ipython",
    "version": 3
   },
   "file_extension": ".py",
   "mimetype": "text/x-python",
   "name": "python",
   "nbconvert_exporter": "python",
   "pygments_lexer": "ipython3",
   "version": "3.7.5"
  }
 },
 "nbformat": 4,
 "nbformat_minor": 4
}
