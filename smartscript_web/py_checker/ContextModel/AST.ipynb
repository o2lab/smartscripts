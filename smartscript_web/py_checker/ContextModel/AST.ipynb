{
 "cells": [
  {
   "cell_type": "code",
   "execution_count": 1,
   "metadata": {},
   "outputs": [],
   "source": [
    "import ast"
   ]
  },
  {
   "cell_type": "code",
   "execution_count": 2,
   "metadata": {},
   "outputs": [],
   "source": [
    "with open('test.py','r') as f:\n",
    "    code = f.read()"
   ]
  },
  {
   "cell_type": "code",
   "execution_count": 77,
   "metadata": {},
   "outputs": [],
   "source": [
    "root = ast.parse(code)"
   ]
  },
  {
   "cell_type": "code",
   "execution_count": 20,
   "metadata": {},
   "outputs": [],
   "source": [
    "root = ast.parse('a = set()')"
   ]
  },
  {
   "cell_type": "code",
   "execution_count": 21,
   "metadata": {
    "scrolled": true
   },
   "outputs": [
    {
     "data": {
      "text/plain": [
       "\"Module(body=[Assign(targets=[Name(id='a', ctx=Store())], value=Call(func=Name(id='set', ctx=Load()), args=[], keywords=[]))])\""
      ]
     },
     "execution_count": 21,
     "metadata": {},
     "output_type": "execute_result"
    }
   ],
   "source": [
    "ast.dump(root)"
   ]
  },
  {
   "cell_type": "code",
   "execution_count": 22,
   "metadata": {},
   "outputs": [],
   "source": [
    "root = ast.parse('a.add(3)')"
   ]
  },
  {
   "cell_type": "code",
   "execution_count": 24,
   "metadata": {},
   "outputs": [],
   "source": [
    "root = ast.parse('a.append(3)')"
   ]
  },
  {
   "cell_type": "code",
   "execution_count": 25,
   "metadata": {},
   "outputs": [
    {
     "data": {
      "text/plain": [
       "\"Module(body=[Expr(value=Call(func=Attribute(value=Name(id='a', ctx=Load()), attr='append', ctx=Load()), args=[Num(n=3)], keywords=[]))])\""
      ]
     },
     "execution_count": 25,
     "metadata": {},
     "output_type": "execute_result"
    }
   ],
   "source": [
    "ast.dump(root) # append"
   ]
  },
  {
   "cell_type": "code",
   "execution_count": 23,
   "metadata": {},
   "outputs": [
    {
     "data": {
      "text/plain": [
       "\"Module(body=[Expr(value=Call(func=Attribute(value=Name(id='a', ctx=Load()), attr='add', ctx=Load()), args=[Num(n=3)], keywords=[]))])\""
      ]
     },
     "execution_count": 23,
     "metadata": {},
     "output_type": "execute_result"
    }
   ],
   "source": [
    "ast.dump(root)"
   ]
  },
  {
   "cell_type": "code",
   "execution_count": 51,
   "metadata": {},
   "outputs": [],
   "source": [
    "class Test(ast.NodeVisitor):\n",
    "    def visit_Call(self, node):\n",
    "        \n",
    "        print(node.func)\n",
    "        self.generic_visit(node)"
   ]
  },
  {
   "cell_type": "code",
   "execution_count": 52,
   "metadata": {
    "scrolled": true
   },
   "outputs": [
    {
     "name": "stdout",
     "output_type": "stream",
     "text": [
      "<_ast.Name object at 0x7f3f5ebeb190>\n",
      "<_ast.Attribute object at 0x7f3f5ebeb2d0>\n",
      "<_ast.Attribute object at 0x7f3f5ebeb350>\n",
      "<_ast.Name object at 0x7f3f5ebeb3d0>\n",
      "<_ast.Attribute object at 0x7f3f5ebeb590>\n",
      "<_ast.Attribute object at 0x7f3f5ebeb690>\n",
      "<_ast.Attribute object at 0x7f3f5ebebd10>\n",
      "<_ast.Name object at 0x7f3f5ebebd90>\n",
      "<_ast.Attribute object at 0x7f3f5ebebe90>\n",
      "<_ast.Name object at 0x7f3f5ebebf10>\n",
      "<_ast.Attribute object at 0x7f3f5ebf0150>\n",
      "<_ast.Name object at 0x7f3f5ebf0490>\n",
      "<_ast.Attribute object at 0x7f3f5ebf0510>\n",
      "<_ast.Attribute object at 0x7f3f5ebf0650>\n",
      "<_ast.Attribute object at 0x7f3f5eca0590>\n",
      "<_ast.Attribute object at 0x7f3f5ec977d0>\n",
      "<_ast.Name object at 0x7f3f5ec886d0>\n",
      "<_ast.Attribute object at 0x7f3f5ec88590>\n",
      "<_ast.Attribute object at 0x7f3f5eb696d0>\n",
      "<_ast.Name object at 0x7f3f5ef333d0>\n",
      "<_ast.Name object at 0x7f3f5ef33590>\n",
      "<_ast.Name object at 0x7f3f5ef33190>\n",
      "<_ast.Attribute object at 0x7f3f5ef33710>\n",
      "<_ast.Name object at 0x7f3f5ef33150>\n",
      "<_ast.Attribute object at 0x7f3f5ef30d90>\n",
      "<_ast.Name object at 0x7f3f5ef30190>\n",
      "<_ast.Name object at 0x7f3f5ef30450>\n",
      "<_ast.Attribute object at 0x7f3f7459c890>\n",
      "<_ast.Name object at 0x7f3f7449d910>\n",
      "<_ast.Name object at 0x7f3f7449d750>\n",
      "<_ast.Name object at 0x7f3f74543fd0>\n",
      "<_ast.Attribute object at 0x7f3f5ebf0850>\n",
      "<_ast.Attribute object at 0x7f3f5ebf0a10>\n",
      "<_ast.Name object at 0x7f3f5ebf0cd0>\n",
      "<_ast.Attribute object at 0x7f3f5ebf0e50>\n",
      "<_ast.Attribute object at 0x7f3f5ebf0f50>\n",
      "<_ast.Attribute object at 0x7f3f5e9d7090>\n",
      "<_ast.Name object at 0x7f3f5e9d72d0>\n",
      "<_ast.Attribute object at 0x7f3f5e9d7590>\n",
      "<_ast.Name object at 0x7f3f5e9d7610>\n",
      "<_ast.Attribute object at 0x7f3f5e9d7790>\n",
      "<_ast.Name object at 0x7f3f5e9d79d0>\n",
      "<_ast.Attribute object at 0x7f3f5e9d7c90>\n",
      "<_ast.Name object at 0x7f3f5e9d7d10>\n",
      "<_ast.Name object at 0x7f3f5e9d7e90>\n",
      "<_ast.Name object at 0x7f3f5e9b9090>\n",
      "<_ast.Name object at 0x7f3f5e9b9250>\n",
      "<_ast.Attribute object at 0x7f3f5e9b92d0>\n",
      "<_ast.Name object at 0x7f3f5e9b9450>\n",
      "<_ast.Name object at 0x7f3f5e9b95d0>\n",
      "<_ast.Name object at 0x7f3f5e9b97d0>\n",
      "<_ast.Attribute object at 0x7f3f5e9b9850>\n"
     ]
    }
   ],
   "source": [
    "Test().visit(root)"
   ]
  },
  {
   "cell_type": "code",
   "execution_count": null,
   "metadata": {},
   "outputs": [],
   "source": []
  },
  {
   "cell_type": "code",
   "execution_count": 9,
   "metadata": {},
   "outputs": [],
   "source": [
    "import astunparse"
   ]
  },
  {
   "cell_type": "code",
   "execution_count": 11,
   "metadata": {},
   "outputs": [],
   "source": [
    "codeobj = compile(root, filename=\"<ast>\", mode=\"exec\")"
   ]
  },
  {
   "cell_type": "code",
   "execution_count": 15,
   "metadata": {},
   "outputs": [
    {
     "data": {
      "text/plain": [
       "<code object <module> at 0x7f3f74498c00, file \"<ast>\", line 1>"
      ]
     },
     "execution_count": 15,
     "metadata": {},
     "output_type": "execute_result"
    }
   ],
   "source": [
    "codeobj"
   ]
  },
  {
   "cell_type": "code",
   "execution_count": 19,
   "metadata": {},
   "outputs": [
    {
     "data": {
      "text/plain": [
       "[<_ast.FunctionDef at 0x7f3f74521550>,\n",
       " <_ast.FunctionDef at 0x7f3f74521f10>,\n",
       " <_ast.FunctionDef at 0x7f3f7456b790>,\n",
       " <_ast.FunctionDef at 0x7f3f7456ebd0>]"
      ]
     },
     "execution_count": 19,
     "metadata": {},
     "output_type": "execute_result"
    }
   ],
   "source": [
    "root.body[4].body"
   ]
  },
  {
   "cell_type": "code",
   "execution_count": 27,
   "metadata": {},
   "outputs": [
    {
     "ename": "AttributeError",
     "evalue": "module 'ast' has no attribute 'parseprint'",
     "output_type": "error",
     "traceback": [
      "\u001b[0;31m---------------------------------------------------------------------------\u001b[0m",
      "\u001b[0;31mAttributeError\u001b[0m                            Traceback (most recent call last)",
      "\u001b[0;32m<ipython-input-27-a1d3b43972dc>\u001b[0m in \u001b[0;36m<module>\u001b[0;34m\u001b[0m\n\u001b[0;32m----> 1\u001b[0;31m \u001b[0mast\u001b[0m\u001b[0;34m.\u001b[0m\u001b[0mparseprint\u001b[0m\u001b[0;34m(\u001b[0m\u001b[0;34m\"del a\"\u001b[0m\u001b[0;34m)\u001b[0m\u001b[0;34m\u001b[0m\u001b[0;34m\u001b[0m\u001b[0m\n\u001b[0m",
      "\u001b[0;31mAttributeError\u001b[0m: module 'ast' has no attribute 'parseprint'"
     ]
    }
   ],
   "source": [
    "ast.parseprint(\"del a\")"
   ]
  },
  {
   "cell_type": "code",
   "execution_count": 62,
   "metadata": {},
   "outputs": [],
   "source": [
    "from collections import deque"
   ]
  },
  {
   "cell_type": "code",
   "execution_count": 63,
   "metadata": {},
   "outputs": [],
   "source": [
    "class FuncCallVisitor(ast.NodeVisitor):\n",
    "    def __init__(self):\n",
    "        self._name = deque()\n",
    "\n",
    "    @property\n",
    "    def name(self):\n",
    "        return '.'.join(self._name)\n",
    "\n",
    "    @name.deleter\n",
    "    def name(self):\n",
    "        self._name.clear()\n",
    "\n",
    "    def visit_Name(self, node):\n",
    "        self._name.appendleft(node.id)\n",
    "\n",
    "    def visit_Attribute(self, node):\n",
    "        try:\n",
    "            self._name.appendleft(node.attr)\n",
    "            self._name.appendleft(node.value.id)\n",
    "        except AttributeError:\n",
    "            self.generic_visit(node)\n",
    "            "
   ]
  },
  {
   "cell_type": "code",
   "execution_count": 73,
   "metadata": {},
   "outputs": [
    {
     "name": "stdout",
     "output_type": "stream",
     "text": [
      "Call(func=Attribute(value=Name(id='content', ctx=Load()), attr='splitlines', ctx=Load()), args=[], keywords=[])\n",
      "1\n",
      "12\n",
      "Call(func=Attribute(value=Attribute(value=Name(id='self', ctx=Load()), attr='stop_words', ctx=Load()), attr='add', ctx=Load()), args=[Name(id='line', ctx=Load())], keywords=[])\n",
      "2\n",
      "12\n"
     ]
    }
   ],
   "source": [
    "for node in ast.walk(root):\n",
    "    if isinstance(node, ast.Call):\n",
    "        print(ast.dump(node))\n",
    "        print(node.lineno)\n",
    "        print(node.col_offset)\n",
    "        continue\n",
    "        callvisitor = FuncCallVisitor()\n",
    "        callvisitor.visit(node.func)\n",
    "#         func_calls.append(callvisitor.name)\n",
    "        print(callvisitor.name)"
   ]
  },
  {
   "cell_type": "code",
   "execution_count": 79,
   "metadata": {},
   "outputs": [
    {
     "name": "stdout",
     "output_type": "stream",
     "text": [
      "tf_idf 76 12\n",
      "os.path.dirname 78 10\n",
      "os.path.join 79 13\n",
      "range 82 13\n",
      "range 87 13\n",
      "print 94 4\n",
      "print 95 4\n",
      "set 11 26\n",
      "open.read.decode 12 18\n",
      "content.splitlines 13 20\n",
      "jieba.cut 19 16\n",
      "sum 30 16\n",
      "self.corpus.keys 40 17\n",
      "sorted 49 15\n",
      "float 59 17\n",
      "sorted 72 15\n",
      "len 80 19\n",
      "table.add_file 84 8\n",
      "print 89 8\n",
      "print 90 8\n",
      "print 91 8\n",
      "table.similarities 95 10\n",
      "self.stop_words.add 14 12\n",
      "file_name.open.read 18 18\n",
      "file_name.open.read 18 98\n",
      "dictionary.values 30 20\n",
      "tf_idf_of_file.items 49 22\n",
      "len 59 23\n",
      "sims.append 70 12\n",
      "table.get_tf_idf 90 14\n",
      "open.read 12 18\n",
      "dictionary.get 26 28\n",
      "self.corpus.get 27 29\n",
      "itemgetter 49 50\n",
      "query_dict.get 56 28\n",
      "itemgetter 72 32\n",
      "x.str.zfill 83 40\n",
      "x.str.zfill 88 42\n",
      "open 18 18\n",
      "open 18 98\n",
      "len 24 15\n",
      "w.lower 24 37\n",
      "log 47 36\n",
      "os.listdir 80 41\n",
      "os.path.isfile 80 63\n",
      "open 12 18\n",
      "w.strip 24 19\n",
      "os.path.join 80 78\n",
      "str 83 40\n",
      "str 88 42\n",
      "len 47 40\n",
      "str 89 23\n"
     ]
    }
   ],
   "source": [
    "for node in ast.walk(root):\n",
    "    if isinstance(node, ast.Call):\n",
    "#         print(ast.dump(node))\n",
    "#         continue\n",
    "        callvisitor = FuncCallVisitor()\n",
    "        callvisitor.visit(node.func)\n",
    "#         func_calls.append(callvisitor.name)\n",
    "#         print(callvisitor.name, node.lineno,node.end_lineno, node.col_offset, node.end_col_offset)\n",
    "        print(callvisitor.name, node.lineno,node.col_offset)"
   ]
  },
  {
   "cell_type": "code",
   "execution_count": 69,
   "metadata": {},
   "outputs": [],
   "source": [
    "root = ast.parse('for line in content.splitlines():\\n            self.stop_words.add(line)')"
   ]
  },
  {
   "cell_type": "code",
   "execution_count": 71,
   "metadata": {},
   "outputs": [
    {
     "name": "stdout",
     "output_type": "stream",
     "text": [
      "content.splitlines\n",
      "self.stop_words.add\n"
     ]
    }
   ],
   "source": [
    "for node in ast.walk(root):\n",
    "    if isinstance(node, ast.Call):\n",
    "#         print(ast.dump(node))\n",
    "#         continue\n",
    "        callvisitor = FuncCallVisitor()\n",
    "        callvisitor.visit(node.func)\n",
    "#         func_calls.append(callvisitor.name)\n",
    "        print(callvisitor.name)"
   ]
  },
  {
   "cell_type": "code",
   "execution_count": 80,
   "metadata": {},
   "outputs": [
    {
     "data": {
      "text/plain": [
       "\"Module(body=[Assign(targets=[Name(id='a', ctx=Store())], value=Call(func=Name(id='dict', ctx=Load()), args=[], keywords=[]))])\""
      ]
     },
     "execution_count": 80,
     "metadata": {},
     "output_type": "execute_result"
    }
   ],
   "source": [
    "ast.dump(ast.parse('a=dict()'))"
   ]
  },
  {
   "cell_type": "code",
   "execution_count": 84,
   "metadata": {},
   "outputs": [],
   "source": [
    "names = sorted({(node.id,node.lineno,node.col_offset) for node in ast.walk(root) if isinstance(node, ast.Name)})"
   ]
  },
  {
   "cell_type": "code",
   "execution_count": 85,
   "metadata": {},
   "outputs": [
    {
     "data": {
      "text/plain": [
       "[('__file__', 78, 26),\n",
       " ('__name__', 75, 3),\n",
       " ('content', 12, 8),\n",
       " ('content', 13, 20),\n",
       " ('content', 18, 8),\n",
       " ('content', 19, 26),\n",
       " ('dictionary', 22, 8),\n",
       " ('dictionary', 26, 12),\n",
       " ('dictionary', 26, 28),\n",
       " ('dictionary', 30, 20),\n",
       " ('dictionary', 31, 17),\n",
       " ('dictionary', 32, 12),\n",
       " ('dictionary', 35, 32),\n",
       " ('dir', 78, 4),\n",
       " ('dir', 79, 26),\n",
       " ('f', 42, 16),\n",
       " ('f', 43, 35),\n",
       " ('f', 65, 12),\n",
       " ('f', 68, 35),\n",
       " ('f', 69, 76),\n",
       " ('f', 70, 25),\n",
       " ('file_name', 18, 23),\n",
       " ('file_name', 18, 50),\n",
       " ('file_name', 18, 73),\n",
       " ('file_name', 18, 116),\n",
       " ('file_name', 35, 19),\n",
       " ('file_name', 46, 31),\n",
       " ('file_name', 47, 79),\n",
       " ('file_name', 83, 8),\n",
       " ('file_name', 84, 23),\n",
       " ('float', 59, 17),\n",
       " ('folder', 79, 4),\n",
       " ('folder', 80, 52),\n",
       " ('folder', 80, 91),\n",
       " ('folder_name', 77, 4),\n",
       " ('folder_name', 79, 44),\n",
       " ('folder_name', 83, 20),\n",
       " ('folder_name', 88, 22),\n",
       " ('itemgetter', 49, 50),\n",
       " ('itemgetter', 72, 32),\n",
       " ('jieba', 19, 16),\n",
       " ('k', 31, 12),\n",
       " ('k', 32, 23),\n",
       " ('k', 60, 12),\n",
       " ('k', 61, 23),\n",
       " ('k', 61, 39),\n",
       " ('k', 67, 16),\n",
       " ('k', 68, 19),\n",
       " ('k', 69, 41),\n",
       " ('k', 69, 58),\n",
       " ('k', 69, 79),\n",
       " ('k', 69, 96),\n",
       " ('key_word', 93, 4),\n",
       " ('key_word', 94, 35),\n",
       " ('key_word', 95, 30),\n",
       " ('len', 24, 15),\n",
       " ('len', 47, 40),\n",
       " ('len', 59, 23),\n",
       " ('len', 80, 19),\n",
       " ('length', 59, 8),\n",
       " ('length', 61, 44),\n",
       " ('line', 13, 12),\n",
       " ('line', 14, 32),\n",
       " ('list_of_words', 55, 17),\n",
       " ('list_of_words', 59, 27),\n",
       " ('log', 47, 36),\n",
       " ('name', 80, 24),\n",
       " ('name', 80, 33),\n",
       " ('name', 80, 99),\n",
       " ('num_of_files', 80, 4),\n",
       " ('num_of_files', 82, 22),\n",
       " ('num_of_files', 87, 22),\n",
       " ('open', 12, 18),\n",
       " ('open', 18, 18),\n",
       " ('open', 18, 98),\n",
       " ('os', 78, 10),\n",
       " ('os', 79, 13),\n",
       " ('os', 80, 41),\n",
       " ('os', 80, 63),\n",
       " ('os', 80, 78),\n",
       " ('print', 89, 8),\n",
       " ('print', 90, 8),\n",
       " ('print', 91, 8),\n",
       " ('print', 94, 4),\n",
       " ('print', 95, 4),\n",
       " ('query_dict', 54, 8),\n",
       " ('query_dict', 56, 12),\n",
       " ('query_dict', 56, 28),\n",
       " ('query_dict', 60, 17),\n",
       " ('query_dict', 61, 12),\n",
       " ('query_dict', 61, 28),\n",
       " ('query_dict', 67, 21),\n",
       " ('query_dict', 69, 30),\n",
       " ('range', 82, 13),\n",
       " ('range', 87, 13),\n",
       " ('score', 66, 12),\n",
       " ('score', 69, 20),\n",
       " ('score', 70, 28),\n",
       " ('self', 9, 8),\n",
       " ('self', 10, 8),\n",
       " ('self', 11, 8),\n",
       " ('self', 14, 12),\n",
       " ('self', 24, 50),\n",
       " ('self', 27, 12),\n",
       " ('self', 27, 29),\n",
       " ('self', 35, 8),\n",
       " ('self', 40, 17),\n",
       " ('self', 42, 21),\n",
       " ('self', 43, 24),\n",
       " ('self', 46, 20),\n",
       " ('self', 47, 44),\n",
       " ('self', 47, 68),\n",
       " ('self', 65, 17),\n",
       " ('self', 68, 24),\n",
       " ('self', 69, 46),\n",
       " ('self', 69, 65),\n",
       " ('self', 69, 84),\n",
       " ('set', 11, 26),\n",
       " ('sims', 64, 8),\n",
       " ('sims', 70, 12),\n",
       " ('sims', 72, 22),\n",
       " ('sorted', 49, 15),\n",
       " ('sorted', 72, 15),\n",
       " ('str', 83, 40),\n",
       " ('str', 88, 42),\n",
       " ('str', 89, 23),\n",
       " ('sum', 30, 16),\n",
       " ('table', 76, 4),\n",
       " ('table', 84, 8),\n",
       " ('table', 90, 14),\n",
       " ('table', 95, 10),\n",
       " ('tags', 49, 8),\n",
       " ('tags', 50, 15),\n",
       " ('target_file', 88, 8),\n",
       " ('target_file', 89, 55),\n",
       " ('target_file', 90, 31),\n",
       " ('tf_idf', 76, 12),\n",
       " ('tf_idf_of_file', 39, 8),\n",
       " ('tf_idf_of_file', 47, 16),\n",
       " ('tf_idf_of_file', 49, 22),\n",
       " ('top_k', 50, 21),\n",
       " ('top_k', 86, 4),\n",
       " ('top_k', 89, 27),\n",
       " ('top_k', 90, 44),\n",
       " ('total', 30, 8),\n",
       " ('total', 32, 29),\n",
       " ('w', 23, 12),\n",
       " ('w', 24, 19),\n",
       " ('w', 24, 37),\n",
       " ('w', 26, 23),\n",
       " ('w', 26, 43),\n",
       " ('w', 27, 24),\n",
       " ('w', 27, 45),\n",
       " ('w', 40, 12),\n",
       " ('w', 43, 19),\n",
       " ('w', 46, 15),\n",
       " ('w', 47, 31),\n",
       " ('w', 47, 90),\n",
       " ('w', 55, 12),\n",
       " ('w', 56, 23),\n",
       " ('w', 56, 43),\n",
       " ('w_in_f', 41, 12),\n",
       " ('w_in_f', 44, 20),\n",
       " ('w_in_f', 47, 58),\n",
       " ('words', 19, 8),\n",
       " ('words', 23, 17),\n",
       " ('x', 82, 8),\n",
       " ('x', 83, 44),\n",
       " ('x', 87, 8),\n",
       " ('x', 88, 46)]"
      ]
     },
     "execution_count": 85,
     "metadata": {},
     "output_type": "execute_result"
    }
   ],
   "source": [
    "names"
   ]
  },
  {
   "cell_type": "code",
   "execution_count": 86,
   "metadata": {},
   "outputs": [],
   "source": [
    "names = sorted({(node.id,node.lineno,node.col_offset) for node in ast.walk(root) if isinstance(node, ast.Name) and isinstance(node.ctx, ast.Store)})"
   ]
  },
  {
   "cell_type": "code",
   "execution_count": 87,
   "metadata": {},
   "outputs": [
    {
     "data": {
      "text/plain": [
       "[('content', 12, 8),\n",
       " ('content', 18, 8),\n",
       " ('dictionary', 22, 8),\n",
       " ('dir', 78, 4),\n",
       " ('f', 42, 16),\n",
       " ('f', 65, 12),\n",
       " ('file_name', 83, 8),\n",
       " ('folder', 79, 4),\n",
       " ('folder_name', 77, 4),\n",
       " ('k', 31, 12),\n",
       " ('k', 60, 12),\n",
       " ('k', 67, 16),\n",
       " ('key_word', 93, 4),\n",
       " ('length', 59, 8),\n",
       " ('line', 13, 12),\n",
       " ('name', 80, 33),\n",
       " ('num_of_files', 80, 4),\n",
       " ('query_dict', 54, 8),\n",
       " ('score', 66, 12),\n",
       " ('score', 69, 20),\n",
       " ('sims', 64, 8),\n",
       " ('table', 76, 4),\n",
       " ('tags', 49, 8),\n",
       " ('target_file', 88, 8),\n",
       " ('tf_idf_of_file', 39, 8),\n",
       " ('top_k', 86, 4),\n",
       " ('total', 30, 8),\n",
       " ('w', 23, 12),\n",
       " ('w', 40, 12),\n",
       " ('w', 55, 12),\n",
       " ('w_in_f', 41, 12),\n",
       " ('w_in_f', 44, 20),\n",
       " ('words', 19, 8),\n",
       " ('x', 82, 8),\n",
       " ('x', 87, 8)]"
      ]
     },
     "execution_count": 87,
     "metadata": {},
     "output_type": "execute_result"
    }
   ],
   "source": [
    "names"
   ]
  },
  {
   "cell_type": "code",
   "execution_count": 97,
   "metadata": {},
   "outputs": [],
   "source": [
    "lineno = 26\n",
    "offset = 28\n",
    "varName = 'dictionary'\n",
    "varlen = len(varName)"
   ]
  },
  {
   "cell_type": "code",
   "execution_count": 98,
   "metadata": {},
   "outputs": [],
   "source": [
    "line = code.split('\\n')[lineno-1]\n",
    "varName = line[offset:offset+varlen]"
   ]
  },
  {
   "cell_type": "code",
   "execution_count": 105,
   "metadata": {},
   "outputs": [
    {
     "data": {
      "text/plain": [
       "['import jieba',\n",
       " 'import os',\n",
       " 'from math import log',\n",
       " 'from operator import itemgetter',\n",
       " '',\n",
       " '',\n",
       " 'class tf_idf:',\n",
       " '    def __init__(self):',\n",
       " '        self.files = {}',\n",
       " '        self.corpus = {}',\n",
       " '        self.stop_words = set(())',\n",
       " \"        content = open('./dictionary/stop_words.txt', 'rb').read().decode('utf-8')\",\n",
       " '        for line in content.splitlines():',\n",
       " '            self.stop_words.add(line)',\n",
       " '',\n",
       " '    def add_file(self, file_name):',\n",
       " '        # Load data and cut',\n",
       " \"        content = open(file_name, 'rb').read() if file_name[0] == '/' or file_name[0] == 'C' else open('../data/' + file_name, 'rb').read()\",\n",
       " '        words = jieba.cut(content)',\n",
       " '',\n",
       " '        # Build dictionary',\n",
       " '        dictionary = {}',\n",
       " '        for w in words:',\n",
       " '            if len(w.strip()) < 2 or w.lower() in self.stop_words:',\n",
       " '                continue']"
      ]
     },
     "execution_count": 105,
     "metadata": {},
     "output_type": "execute_result"
    }
   ],
   "source": [
    "code.split('\\n')[:lineno-1]"
   ]
  },
  {
   "cell_type": "code",
   "execution_count": 106,
   "metadata": {},
   "outputs": [],
   "source": [
    "st = len(\"\\n\".join(code.split('\\n')[:lineno-1]))+offset  "
   ]
  },
  {
   "cell_type": "code",
   "execution_count": 108,
   "metadata": {},
   "outputs": [
    {
     "data": {
      "text/plain": [
       "' dictionary'"
      ]
     },
     "execution_count": 108,
     "metadata": {},
     "output_type": "execute_result"
    }
   ],
   "source": [
    "code[st:st+varlen+1]"
   ]
  }
 ],
 "metadata": {
  "kernelspec": {
   "display_name": "Python 3",
   "language": "python",
   "name": "python3"
  },
  "language_info": {
   "codemirror_mode": {
    "name": "ipython",
    "version": 3
   },
   "file_extension": ".py",
   "mimetype": "text/x-python",
   "name": "python",
   "nbconvert_exporter": "python",
   "pygments_lexer": "ipython3",
   "version": "3.7.4"
  }
 },
 "nbformat": 4,
 "nbformat_minor": 4
}
